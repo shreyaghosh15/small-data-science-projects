{
 "cells": [
  {
   "cell_type": "markdown",
   "metadata": {},
   "source": [
    "# Sorting Holiday Gifts\n",
    "An online gift store has one million users that each listed a gift on a wish list. The prices for each of these gifts are stored in `gift_costs.txt`.\n",
    "For the holidays, the stores decides to gift their customers their respective wishlist item for free only if the item costs less than \\$25. \n",
    "This code calculates the total amount spent by the store on all the free gifts (under $25) for their customers."
   ]
  },
  {
   "cell_type": "code",
   "execution_count": 8,
   "metadata": {},
   "outputs": [],
   "source": [
    "import time\n",
    "import numpy as np"
   ]
  },
  {
   "cell_type": "code",
   "execution_count": 12,
   "metadata": {},
   "outputs": [],
   "source": [
    "with open('gift-costs.txt') as f:\n",
    "    gift_costs= f.read().split('\\n')    \n",
    "gift_costs= np.array(gift_costs).astype(int)"
   ]
  },
  {
   "cell_type": "markdown",
   "metadata": {},
   "source": [
    "### Method 1: Using simple for loop"
   ]
  },
  {
   "cell_type": "code",
   "execution_count": 13,
   "metadata": {},
   "outputs": [
    {
     "name": "stdout",
     "output_type": "stream",
     "text": [
      "32765412.599998668\n",
      "Duration:9.035951852798462seconds\n"
     ]
    }
   ],
   "source": [
    "start= time.time()\n",
    "total_price= 0\n",
    "for cost in gift_costs:\n",
    "    if cost<25:\n",
    "        total_price+=cost*1.08  # add cost after tax\n",
    "print(total_price)\n",
    "print('Duration:{}seconds'.format(time.time()-start))"
   ]
  },
  {
   "cell_type": "markdown",
   "metadata": {},
   "source": [
    "### Method 2: Using Numpy for simpler and faster calculation"
   ]
  },
  {
   "cell_type": "code",
   "execution_count": 14,
   "metadata": {},
   "outputs": [
    {
     "name": "stdout",
     "output_type": "stream",
     "text": [
      "32765412.6\n",
      "Duration:0.08531546592712402seconds\n"
     ]
    }
   ],
   "source": [
    "start= time.time()\n",
    "total_price= (gift_costs[gift_costs<25]).sum()*1.08\n",
    "print(total_price)\n",
    "print('Duration:{}seconds'.format(time.time()-start))"
   ]
  },
  {
   "cell_type": "markdown",
   "metadata": {},
   "source": [
    "### It is clear that Method 2 is more time-efficient"
   ]
  }
 ],
 "metadata": {
  "kernelspec": {
   "display_name": "Python 3",
   "language": "python",
   "name": "python3"
  },
  "language_info": {
   "codemirror_mode": {
    "name": "ipython",
    "version": 3
   },
   "file_extension": ".py",
   "mimetype": "text/x-python",
   "name": "python",
   "nbconvert_exporter": "python",
   "pygments_lexer": "ipython3",
   "version": "3.8.8"
  }
 },
 "nbformat": 4,
 "nbformat_minor": 2
}
